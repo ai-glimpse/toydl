{
 "cells": [
  {
   "cell_type": "code",
   "execution_count": 1,
   "id": "887e0ff2-deee-4a6a-8d0d-be6835f3a794",
   "metadata": {},
   "outputs": [],
   "source": [
    "import toydl\n",
    "import math\n",
    "\n",
    "from toydl.core.scalar import Scalar\n",
    "from toydl.core.scalar.bp import topological_sort\n",
    "from toydl.network.mlp import MLPConfig, MLPBinaryClassifyNetFactory, ActivationType"
   ]
  },
  {
   "cell_type": "code",
   "execution_count": 2,
   "id": "22ec2144-909c-4756-b6ee-c00d051baf9a",
   "metadata": {},
   "outputs": [
    {
     "data": {
      "text/plain": [
       "'0.2.0'"
      ]
     },
     "execution_count": 2,
     "metadata": {},
     "output_type": "execute_result"
    }
   ],
   "source": [
    "toydl.__version__"
   ]
  },
  {
   "cell_type": "markdown",
   "id": "4b86e12a-fb2c-4e2d-b2f2-c33d7add81e2",
   "metadata": {},
   "source": [
    "## Simple function backward"
   ]
  },
  {
   "cell_type": "markdown",
   "id": "f48d2bc3-fc66-49b4-b11b-d3f5de972cc2",
   "metadata": {},
   "source": [
    "$$ y = f(x_1, x_2) = 3x_1 + 5x_2 $$\n",
    "\n",
    "$$ f'(x_1)  = 3$$\n",
    "$$ f'(x_2)  = 5$$"
   ]
  },
  {
   "cell_type": "code",
   "execution_count": 15,
   "id": "8ad23d02-4e00-4c6b-b4f6-9d9589abf797",
   "metadata": {},
   "outputs": [
    {
     "data": {
      "text/plain": [
       "Scalar(name=y, unique_id=74, data=13.0000, derivative=None)"
      ]
     },
     "execution_count": 15,
     "metadata": {},
     "output_type": "execute_result"
    }
   ],
   "source": [
    "x1 = Scalar(1.0, name=\"x1\")\n",
    "x1.requires_grad_()\n",
    "x2 = Scalar(2.0, name=\"x2\")\n",
    "x2.requires_grad_()\n",
    "\n",
    "y = Scalar(3, name=\"x1_coef\") * x1 + Scalar(5, name=\"x2_coef\") * x2\n",
    "y.name = \"y\"\n",
    "\n",
    "y"
   ]
  },
  {
   "cell_type": "code",
   "execution_count": 16,
   "id": "8054e4db-0678-432b-a67a-ad5c8ef8ee86",
   "metadata": {},
   "outputs": [
    {
     "data": {
      "text/plain": [
       "[Scalar(name=y, unique_id=74, data=13.0000, derivative=None),\n",
       " Scalar(name=73, unique_id=73, data=10.0000, derivative=None),\n",
       " Scalar(name=x2, unique_id=69, data=2.0000, derivative=None),\n",
       " Scalar(name=71, unique_id=71, data=3.0000, derivative=None),\n",
       " Scalar(name=x1, unique_id=68, data=1.0000, derivative=None)]"
      ]
     },
     "execution_count": 16,
     "metadata": {},
     "output_type": "execute_result"
    }
   ],
   "source": [
    "topological_sort(y)"
   ]
  },
  {
   "cell_type": "markdown",
   "id": "54c8f193-65d0-4ff5-b4a8-4b6183f0fe18",
   "metadata": {},
   "source": [
    "注意到，除了我们指定的一些 `Scalar` 之外，这里存在一些存储中间计算结果的 `Scalar`."
   ]
  },
  {
   "cell_type": "code",
   "execution_count": 17,
   "id": "76fef59c-9f46-4417-a550-e1f281bebb3a",
   "metadata": {},
   "outputs": [],
   "source": [
    "y.backward(d_output=1.0)\n",
    "\n",
    "assert math.isclose(x1.derivative, 3.0)\n",
    "assert math.isclose(x2.derivative, 5.0)"
   ]
  },
  {
   "cell_type": "code",
   "execution_count": 18,
   "id": "9471a4fe-7056-4e0c-843e-88a39a773abe",
   "metadata": {},
   "outputs": [
    {
     "data": {
      "text/plain": [
       "Scalar(name=x1, unique_id=68, data=1.0000, derivative=3.0)"
      ]
     },
     "execution_count": 18,
     "metadata": {},
     "output_type": "execute_result"
    }
   ],
   "source": [
    "x1"
   ]
  },
  {
   "cell_type": "code",
   "execution_count": 19,
   "id": "48bc1730-ca87-408a-a97d-fecb8e7358ba",
   "metadata": {},
   "outputs": [
    {
     "data": {
      "text/plain": [
       "Scalar(name=x2, unique_id=69, data=2.0000, derivative=5.0)"
      ]
     },
     "execution_count": 19,
     "metadata": {},
     "output_type": "execute_result"
    }
   ],
   "source": [
    "x2"
   ]
  },
  {
   "cell_type": "code",
   "execution_count": null,
   "id": "f3952052-8324-46f4-bbf5-9719211dc0fc",
   "metadata": {},
   "outputs": [],
   "source": []
  },
  {
   "cell_type": "markdown",
   "id": "e3d08d05-ce8a-416e-9f64-4e8b35684a53",
   "metadata": {},
   "source": [
    "## MLP backward"
   ]
  },
  {
   "cell_type": "code",
   "execution_count": 21,
   "id": "1e8fc6b3-43b1-47a6-a637-084412d318fe",
   "metadata": {},
   "outputs": [],
   "source": [
    "mlp_config = MLPConfig(\n",
    "    in_size=2,\n",
    "    out_size=1,\n",
    "    hidden_layer_size=3,\n",
    "    hidden_layer_num=1,\n",
    "    hidden_activation=ActivationType.SIGMOID,\n",
    ")\n",
    "mlp = MLPBinaryClassifyNetFactory(mlp_config)"
   ]
  },
  {
   "cell_type": "code",
   "execution_count": 22,
   "id": "91d5e56d-14b4-4424-bd35-dba5ac4164d5",
   "metadata": {},
   "outputs": [
    {
     "name": "stdout",
     "output_type": "stream",
     "text": [
      "('layer_input_hidden_0.weight_0_0', Scalar(name=weight_0_0, unique_id=75, data=0.6376, derivative=None))\n",
      "('layer_input_hidden_0.weight_0_1', Scalar(name=weight_0_1, unique_id=76, data=0.1573, derivative=None))\n",
      "('layer_input_hidden_0.weight_0_2', Scalar(name=weight_0_2, unique_id=77, data=-0.7400, derivative=None))\n",
      "('layer_input_hidden_0.weight_1_0', Scalar(name=weight_1_0, unique_id=78, data=0.4457, derivative=None))\n",
      "('layer_input_hidden_0.weight_1_1', Scalar(name=weight_1_1, unique_id=79, data=0.8250, derivative=None))\n",
      "('layer_input_hidden_0.weight_1_2', Scalar(name=weight_1_2, unique_id=80, data=0.7804, derivative=None))\n",
      "('layer_input_hidden_0.bias_0', Scalar(name=bias_0, unique_id=81, data=0.4777, derivative=None))\n",
      "('layer_input_hidden_0.bias_1', Scalar(name=bias_1, unique_id=82, data=0.2580, derivative=None))\n",
      "('layer_input_hidden_0.bias_2', Scalar(name=bias_2, unique_id=83, data=0.1386, derivative=None))\n",
      "('layer_hidden_output.weight_0_0', Scalar(name=weight_0_0, unique_id=84, data=-0.1112, derivative=None))\n",
      "('layer_hidden_output.weight_1_0', Scalar(name=weight_1_0, unique_id=85, data=0.5127, derivative=None))\n",
      "('layer_hidden_output.weight_2_0', Scalar(name=weight_2_0, unique_id=86, data=0.1404, derivative=None))\n",
      "('layer_hidden_output.bias_0', Scalar(name=bias_0, unique_id=87, data=0.6537, derivative=None))\n"
     ]
    }
   ],
   "source": [
    "for p in mlp.named_parameters():\n",
    "    print(p)"
   ]
  },
  {
   "cell_type": "code",
   "execution_count": 23,
   "id": "008bd9a6-203e-42a5-814e-c8fc3c53a130",
   "metadata": {},
   "outputs": [
    {
     "data": {
      "text/plain": [
       "Scalar(name=y, unique_id=124, data=0.9191, derivative=None)"
      ]
     },
     "execution_count": 23,
     "metadata": {},
     "output_type": "execute_result"
    }
   ],
   "source": [
    "x1 = Scalar(1.0, name=\"x1\")\n",
    "x2 = Scalar(2.0, name=\"x2\")\n",
    "xs = (x1, x2)\n",
    "y = mlp.forward(xs)\n",
    "y.name = \"y\"\n",
    "\n",
    "y"
   ]
  },
  {
   "cell_type": "code",
   "execution_count": null,
   "id": "b76b8cf2-f521-4378-82fa-b22b0580b31f",
   "metadata": {},
   "outputs": [],
   "source": []
  },
  {
   "cell_type": "code",
   "execution_count": 24,
   "id": "93568f1c-5b12-4d20-ada6-5eb0014d524c",
   "metadata": {},
   "outputs": [],
   "source": [
    "y.backward(d_output=1.0)"
   ]
  },
  {
   "cell_type": "code",
   "execution_count": 25,
   "id": "a52ce752-0dae-449b-a15a-1292042684d2",
   "metadata": {},
   "outputs": [
    {
     "name": "stdout",
     "output_type": "stream",
     "text": [
      "('layer_input_hidden_0.weight_0_0', Scalar(name=weight_0_0, unique_id=75, data=0.6376, derivative=-0.0006))\n",
      "('layer_input_hidden_0.weight_0_1', Scalar(name=weight_0_1, unique_id=76, data=0.1573, derivative=0.0031))\n",
      "('layer_input_hidden_0.weight_0_2', Scalar(name=weight_0_2, unique_id=77, data=-0.7400, derivative=0.002))\n",
      "('layer_input_hidden_0.weight_1_0', Scalar(name=weight_1_0, unique_id=78, data=0.4457, derivative=-0.0012))\n",
      "('layer_input_hidden_0.weight_1_1', Scalar(name=weight_1_1, unique_id=79, data=0.8250, derivative=0.0062))\n",
      "('layer_input_hidden_0.weight_1_2', Scalar(name=weight_1_2, unique_id=80, data=0.7804, derivative=0.0039))\n",
      "('layer_input_hidden_0.bias_0', Scalar(name=bias_0, unique_id=81, data=0.4777, derivative=-0.0012))\n",
      "('layer_input_hidden_0.bias_1', Scalar(name=bias_1, unique_id=82, data=0.2580, derivative=0.0062))\n",
      "('layer_input_hidden_0.bias_2', Scalar(name=bias_2, unique_id=83, data=0.1386, derivative=0.0039))\n",
      "('layer_hidden_output.weight_0_0', Scalar(name=weight_0_0, unique_id=84, data=-0.1112, derivative=0.0686))\n",
      "('layer_hidden_output.weight_1_0', Scalar(name=weight_1_0, unique_id=85, data=0.5127, derivative=0.0677))\n",
      "('layer_hidden_output.weight_2_0', Scalar(name=weight_2_0, unique_id=86, data=0.1404, derivative=0.0557))\n",
      "('layer_hidden_output.bias_0', Scalar(name=bias_0, unique_id=87, data=0.6537, derivative=0.223))\n"
     ]
    }
   ],
   "source": [
    "for p in mlp.named_parameters():\n",
    "    print(p)"
   ]
  },
  {
   "cell_type": "code",
   "execution_count": 26,
   "id": "403b0213-4f13-4f4b-87a0-e61c30d79e42",
   "metadata": {},
   "outputs": [
    {
     "data": {
      "text/plain": [
       "Scalar(name=x1, unique_id=88, data=1.0000, derivative=None)"
      ]
     },
     "execution_count": 26,
     "metadata": {},
     "output_type": "execute_result"
    }
   ],
   "source": [
    "x1"
   ]
  },
  {
   "cell_type": "code",
   "execution_count": 27,
   "id": "dec228df-8771-424e-8baa-0095d38351fb",
   "metadata": {},
   "outputs": [
    {
     "data": {
      "text/plain": [
       "Scalar(name=x2, unique_id=89, data=2.0000, derivative=None)"
      ]
     },
     "execution_count": 27,
     "metadata": {},
     "output_type": "execute_result"
    }
   ],
   "source": [
    "x2"
   ]
  },
  {
   "cell_type": "code",
   "execution_count": null,
   "id": "746131e9-c1a2-48f8-bade-fdac8091bae7",
   "metadata": {},
   "outputs": [],
   "source": []
  }
 ],
 "metadata": {
  "kernelspec": {
   "display_name": "toydl",
   "language": "python",
   "name": "toydl"
  },
  "language_info": {
   "codemirror_mode": {
    "name": "ipython",
    "version": 3
   },
   "file_extension": ".py",
   "mimetype": "text/x-python",
   "name": "python",
   "nbconvert_exporter": "python",
   "pygments_lexer": "ipython3",
   "version": "3.12.8"
  }
 },
 "nbformat": 4,
 "nbformat_minor": 5
}
