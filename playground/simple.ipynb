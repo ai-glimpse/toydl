{
 "cells": [
  {
   "cell_type": "code",
   "execution_count": 1,
   "id": "887e0ff2-deee-4a6a-8d0d-be6835f3a794",
   "metadata": {},
   "outputs": [],
   "source": [
    "import toydl"
   ]
  },
  {
   "cell_type": "code",
   "execution_count": 2,
   "id": "22ec2144-909c-4756-b6ee-c00d051baf9a",
   "metadata": {},
   "outputs": [
    {
     "data": {
      "text/plain": [
       "'0.2.0'"
      ]
     },
     "execution_count": 2,
     "metadata": {},
     "output_type": "execute_result"
    }
   ],
   "source": [
    "toydl.__version__"
   ]
  },
  {
   "cell_type": "code",
   "execution_count": null,
   "id": "d1298e0b-08cd-4c91-8293-c0f821c00d4a",
   "metadata": {},
   "outputs": [],
   "source": []
  }
 ],
 "metadata": {
  "kernelspec": {
   "display_name": "toydl",
   "language": "python",
   "name": "toydl"
  },
  "language_info": {
   "codemirror_mode": {
    "name": "ipython",
    "version": 3
   },
   "file_extension": ".py",
   "mimetype": "text/x-python",
   "name": "python",
   "nbconvert_exporter": "python",
   "pygments_lexer": "ipython3",
   "version": "3.12.8"
  }
 },
 "nbformat": 4,
 "nbformat_minor": 5
}
